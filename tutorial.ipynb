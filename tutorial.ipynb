{
 "cells": [
  {
   "cell_type": "code",
   "execution_count": null,
   "metadata": {},
   "outputs": [],
   "source": [
    "!pip install pysd"
   ]
  },
  {
   "cell_type": "code",
   "execution_count": 4,
   "metadata": {},
   "outputs": [
    {
     "name": "stdout",
     "output_type": "stream",
     "text": [
      "%pylab is deprecated, use %matplotlib inline and import the required libraries.\n",
      "Populating the interactive namespace from numpy and matplotlib\n"
     ]
    }
   ],
   "source": [
    "%pylab inline\n",
    "import pysd\n",
    "model = pysd.read_vensim('./Teacup.mdl')"
   ]
  },
  {
   "cell_type": "code",
   "execution_count": 6,
   "metadata": {},
   "outputs": [
    {
     "data": {
      "text/html": [
       "<div>\n",
       "<style scoped>\n",
       "    .dataframe tbody tr th:only-of-type {\n",
       "        vertical-align: middle;\n",
       "    }\n",
       "\n",
       "    .dataframe tbody tr th {\n",
       "        vertical-align: top;\n",
       "    }\n",
       "\n",
       "    .dataframe thead th {\n",
       "        text-align: right;\n",
       "    }\n",
       "</style>\n",
       "<table border=\"1\" class=\"dataframe\">\n",
       "  <thead>\n",
       "    <tr style=\"text-align: right;\">\n",
       "      <th></th>\n",
       "      <th>FINAL TIME</th>\n",
       "      <th>INITIAL TIME</th>\n",
       "      <th>SAVEPER</th>\n",
       "      <th>TIME STEP</th>\n",
       "      <th>Characteristic Time</th>\n",
       "      <th>Heat Loss to Room</th>\n",
       "      <th>Room Temperature</th>\n",
       "      <th>Teacup Temperature</th>\n",
       "    </tr>\n",
       "  </thead>\n",
       "  <tbody>\n",
       "    <tr>\n",
       "      <th>0.000</th>\n",
       "      <td>30</td>\n",
       "      <td>0</td>\n",
       "      <td>0.125</td>\n",
       "      <td>0.125</td>\n",
       "      <td>10</td>\n",
       "      <td>11.000000</td>\n",
       "      <td>70</td>\n",
       "      <td>180.000000</td>\n",
       "    </tr>\n",
       "    <tr>\n",
       "      <th>0.125</th>\n",
       "      <td>30</td>\n",
       "      <td>0</td>\n",
       "      <td>0.125</td>\n",
       "      <td>0.125</td>\n",
       "      <td>10</td>\n",
       "      <td>10.862500</td>\n",
       "      <td>70</td>\n",
       "      <td>178.625000</td>\n",
       "    </tr>\n",
       "    <tr>\n",
       "      <th>0.250</th>\n",
       "      <td>30</td>\n",
       "      <td>0</td>\n",
       "      <td>0.125</td>\n",
       "      <td>0.125</td>\n",
       "      <td>10</td>\n",
       "      <td>10.726719</td>\n",
       "      <td>70</td>\n",
       "      <td>177.267188</td>\n",
       "    </tr>\n",
       "    <tr>\n",
       "      <th>0.375</th>\n",
       "      <td>30</td>\n",
       "      <td>0</td>\n",
       "      <td>0.125</td>\n",
       "      <td>0.125</td>\n",
       "      <td>10</td>\n",
       "      <td>10.592635</td>\n",
       "      <td>70</td>\n",
       "      <td>175.926348</td>\n",
       "    </tr>\n",
       "    <tr>\n",
       "      <th>0.500</th>\n",
       "      <td>30</td>\n",
       "      <td>0</td>\n",
       "      <td>0.125</td>\n",
       "      <td>0.125</td>\n",
       "      <td>10</td>\n",
       "      <td>10.460227</td>\n",
       "      <td>70</td>\n",
       "      <td>174.602268</td>\n",
       "    </tr>\n",
       "  </tbody>\n",
       "</table>\n",
       "</div>"
      ],
      "text/plain": [
       "       FINAL TIME  INITIAL TIME  SAVEPER  TIME STEP  Characteristic Time  \\\n",
       "0.000          30             0    0.125      0.125                   10   \n",
       "0.125          30             0    0.125      0.125                   10   \n",
       "0.250          30             0    0.125      0.125                   10   \n",
       "0.375          30             0    0.125      0.125                   10   \n",
       "0.500          30             0    0.125      0.125                   10   \n",
       "\n",
       "       Heat Loss to Room  Room Temperature  Teacup Temperature  \n",
       "0.000          11.000000                70          180.000000  \n",
       "0.125          10.862500                70          178.625000  \n",
       "0.250          10.726719                70          177.267188  \n",
       "0.375          10.592635                70          175.926348  \n",
       "0.500          10.460227                70          174.602268  "
      ]
     },
     "execution_count": 6,
     "metadata": {},
     "output_type": "execute_result"
    }
   ],
   "source": [
    "values = model.run()\n",
    "values.head(5)"
   ]
  }
 ],
 "metadata": {
  "kernelspec": {
   "display_name": ".venv",
   "language": "python",
   "name": "python3"
  },
  "language_info": {
   "codemirror_mode": {
    "name": "ipython",
    "version": 3
   },
   "file_extension": ".py",
   "mimetype": "text/x-python",
   "name": "python",
   "nbconvert_exporter": "python",
   "pygments_lexer": "ipython3",
   "version": "3.11.5"
  }
 },
 "nbformat": 4,
 "nbformat_minor": 2
}
